{
  "nbformat": 4,
  "nbformat_minor": 0,
  "metadata": {
    "colab": {
      "name": "Copy of Chat Bot.ipynb",
      "provenance": [],
      "collapsed_sections": []
    },
    "kernelspec": {
      "name": "python3",
      "display_name": "Python 3"
    }
  },
  "cells": [
    {
      "cell_type": "code",
      "metadata": {
        "id": "-bOPc-mXDfNf"
      },
      "source": [
        "#For example, let’s say you want to search all words that start with “a” in the string \"abc def\" . The code you will write is:"
      ],
      "execution_count": null,
      "outputs": []
    },
    {
      "cell_type": "code",
      "metadata": {
        "colab": {
          "base_uri": "https://localhost:8080/"
        },
        "id": "i-1d1GXPDrSz",
        "outputId": "abedef7c-14c8-431d-ddd6-2096728febbd"
      },
      "source": [
        "import re\r\n",
        "re.search(\"^a\", \"abc def\")"
      ],
      "execution_count": null,
      "outputs": [
        {
          "output_type": "execute_result",
          "data": {
            "text/plain": [
              "<re.Match object; span=(0, 1), match='a'>"
            ]
          },
          "metadata": {
            "tags": []
          },
          "execution_count": 2
        }
      ]
    },
    {
      "cell_type": "code",
      "metadata": {
        "colab": {
          "base_uri": "https://localhost:8080/"
        },
        "id": "JT9o0P_uD_kb",
        "outputId": "462578b9-08f2-45f4-82fc-2483a70b2a5d"
      },
      "source": [
        "if re.search(\"^a\", \"abc\"):\r\n",
        "    print(\"Found!!!\")\r\n",
        " "
      ],
      "execution_count": null,
      "outputs": [
        {
          "output_type": "stream",
          "text": [
            "Found!!!\n"
          ],
          "name": "stdout"
        }
      ]
    },
    {
      "cell_type": "code",
      "metadata": {
        "id": "3qgdOoe9EERO"
      },
      "source": [
        " #Let’s say that you want to find all words that end with one or more “e”. You can use the +  operator:"
      ],
      "execution_count": null,
      "outputs": []
    },
    {
      "cell_type": "code",
      "metadata": {
        "colab": {
          "base_uri": "https://localhost:8080/"
        },
        "id": "xnRPu6b5EPcK",
        "outputId": "ea941eb7-b15f-4fa7-f7fa-d48b016469aa"
      },
      "source": [
        "3\r\n",
        "words = ['TEXT', 'EASTee', 'BESTe']\r\n",
        "words_ending_with_one_or_more_e = [w for w in words if re.search(\"e+$\", w)]\r\n",
        "words_ending_with_one_or_more_e"
      ],
      "execution_count": null,
      "outputs": [
        {
          "output_type": "execute_result",
          "data": {
            "text/plain": [
              "['EASTee', 'BESTe']"
            ]
          },
          "metadata": {
            "tags": []
          },
          "execution_count": 3
        }
      ]
    },
    {
      "cell_type": "code",
      "metadata": {
        "id": "FftDiQU4FRrb"
      },
      "source": [
        "#You can use it as well in list comprehensions to find words that end with “ed”, for example:"
      ],
      "execution_count": null,
      "outputs": []
    },
    {
      "cell_type": "code",
      "metadata": {
        "colab": {
          "base_uri": "https://localhost:8080/"
        },
        "id": "C2VYEeXKFTev",
        "outputId": "25436733-ae8f-4e1f-c475-9352d40afc16"
      },
      "source": [
        "words = ['TEXT', 'EAST', 'BESTed']\r\n",
        "words_ending_with_ed = [w for w in words if re.search(\"ed$\", w)]\r\n",
        "words_ending_with_ed"
      ],
      "execution_count": null,
      "outputs": [
        {
          "output_type": "execute_result",
          "data": {
            "text/plain": [
              "['BESTed']"
            ]
          },
          "metadata": {
            "tags": []
          },
          "execution_count": 5
        }
      ]
    },
    {
      "cell_type": "code",
      "metadata": {
        "colab": {
          "base_uri": "https://localhost:8080/"
        },
        "id": "dO7FQFkjF4bE",
        "outputId": "29c0c769-9fde-4cae-eb61-fefda64e552d"
      },
      "source": [
        "words = ['TEXT', 'EAST', '#BESTe']\r\n",
        "words_begin_with_hash = [w for w in words if re.search(\"^#\", w)]\r\n",
        "words_begin_with_hash"
      ],
      "execution_count": null,
      "outputs": [
        {
          "output_type": "execute_result",
          "data": {
            "text/plain": [
              "['#BESTe']"
            ]
          },
          "metadata": {
            "tags": []
          },
          "execution_count": 18
        }
      ]
    },
    {
      "cell_type": "code",
      "metadata": {
        "colab": {
          "base_uri": "https://localhost:8080/"
        },
        "id": "-riQntOwGeHm",
        "outputId": "d7ca69cc-578d-49c2-d320-adad575cc58d"
      },
      "source": [
        "#NLTK has an algorithm named as \"PorterStemmer\". This algorithm accepts the list of tokenized word and stems it into root word.\r\n",
        "from nltk.stem import PorterStemmer\r\n",
        "e_words= [\"wait\", \"waiting\", \"waited\", \"waits\"]\r\n",
        "ps =PorterStemmer()\r\n",
        "for w in e_words:\r\n",
        "    rootWord=ps.stem(w)\r\n",
        "    print(rootWord)"
      ],
      "execution_count": null,
      "outputs": [
        {
          "output_type": "stream",
          "text": [
            "wait\n",
            "wait\n",
            "wait\n",
            "wait\n"
          ],
          "name": "stdout"
        }
      ]
    },
    {
      "cell_type": "code",
      "metadata": {
        "colab": {
          "base_uri": "https://localhost:8080/"
        },
        "id": "98qNHBw4eh50",
        "outputId": "97920f0f-3c2d-4149-9610-0388d11383ca"
      },
      "source": [
        "!pip install nltk\r\n",
        "!pip install punct"
      ],
      "execution_count": null,
      "outputs": [
        {
          "output_type": "stream",
          "text": [
            "Requirement already satisfied: nltk in /usr/local/lib/python3.7/dist-packages (3.2.5)\n",
            "Requirement already satisfied: six in /usr/local/lib/python3.7/dist-packages (from nltk) (1.15.0)\n",
            "Collecting punct\n",
            "  Downloading https://files.pythonhosted.org/packages/6a/cd/15969db72379cf6470a0f9630639c7441c2b302375fcbc28ce5c442fea36/punct-1.2.2.tar.gz\n",
            "Building wheels for collected packages: punct\n",
            "  Building wheel for punct (setup.py) ... \u001b[?25l\u001b[?25hdone\n",
            "  Created wheel for punct: filename=punct-1.2.2-cp37-none-any.whl size=5627 sha256=c67e6e0f0cdc6f845ac3c7f3bbd68afad4cfe665a308cf3b7b95b3f6754dff19\n",
            "  Stored in directory: /root/.cache/pip/wheels/61/2f/3e/8abc5334209ca91ef3dfdd5dc98879ed29779b6c886abd3bc0\n",
            "Successfully built punct\n",
            "Installing collected packages: punct\n",
            "Successfully installed punct-1.2.2\n"
          ],
          "name": "stdout"
        }
      ]
    },
    {
      "cell_type": "code",
      "metadata": {
        "id": "o4JpTER1fFtg"
      },
      "source": [
        "paragraph to sentences"
      ],
      "execution_count": null,
      "outputs": []
    },
    {
      "cell_type": "code",
      "metadata": {
        "colab": {
          "base_uri": "https://localhost:8080/"
        },
        "id": "l7k85zS8Gs9H",
        "outputId": "5478c1f5-3df9-41b2-c6b7-8335a4bbca1e"
      },
      "source": [
        "import nltk\r\n",
        "nltk.download('punkt')\r\n",
        "from nltk.tokenize import sent_tokenize\r\n",
        "text=\" Hello Mr. Smith, how are you doing today? The weather is great, and city is awesome.The sky is pinkish-blue. You shouldn't eat cardboard\"\r\n",
        "tokenized_text=sent_tokenize(text)\r\n",
        "print(tokenized_text)"
      ],
      "execution_count": null,
      "outputs": [
        {
          "output_type": "stream",
          "text": [
            "[nltk_data] Downloading package punkt to /root/nltk_data...\n",
            "[nltk_data]   Unzipping tokenizers/punkt.zip.\n",
            "[' Hello Mr. Smith, how are you doing today?', 'The weather is great, and city is awesome.The sky is pinkish-blue.', \"You shouldn't eat cardboard\"]\n"
          ],
          "name": "stdout"
        }
      ]
    },
    {
      "cell_type": "markdown",
      "metadata": {
        "id": "rm2uU1SUrn3v"
      },
      "source": [
        "Chatbots are typically used in dialog systems for various practical purposes including customer service or information acquisition. Some chatterbots use sophisticated natural language processing systems, but many simpler systems scan for keywords within the input, then pull a reply with the most matching keywords, or the most similar wording pattern, from a database."
      ]
    },
    {
      "cell_type": "markdown",
      "metadata": {
        "id": "9MpgbOAFr7W9"
      },
      "source": [
        "In order to successfully build a conversational engine, it should take care of the following things:\n",
        "\n",
        "1. Understand who is the target audience\n",
        "\n",
        "2. Understand the Natural Language of the communication.\n",
        "\n",
        "3. Understand the intent or desire of the user\n",
        "\n",
        "4. provide responses that can answer the user\n",
        "\n",
        "Today we will learn to create a simple chat assistant or chatbot using Python’s NLTK library."
      ]
    },
    {
      "cell_type": "markdown",
      "metadata": {
        "id": "X78I0CJ6sL2T"
      },
      "source": [
        "NLTK has a module, nltk.chat, which simplifies building these engines by providing a generic framework.\n",
        "Chat: This is a class that has all the logic that is used by the chatbot.\n",
        "Reflections: This is a dictionary that contains a set of input values and its corresponding output values. It is an optional dictionary that you can use. You can also create your own dictionary in the same format as below and use it in your code. \n",
        "reflections = {\n",
        "  \"i am\"       : \"you are\",\n",
        "  \"i was\"      : \"you were\",\n",
        "  \"i\"          : \"you\",\n",
        "  \"i'm\"        : \"you are\",\n",
        "  \"i'd\"        : \"you would\",\n",
        "  \"i've\"       : \"you have\",\n",
        "  \"i'll\"       : \"you will\",\n",
        "  \"my\"         : \"your\",\n",
        "  \"you are\"    : \"I am\",\n",
        "  \"you were\"   : \"I was\",\n",
        "  \"you've\"     : \"I have\",\n",
        "  \"you'll\"     : \"I will\",\n",
        "  \"your\"       : \"my\",\n",
        "  \"yours\"      : \"mine\",\n",
        "  \"you\"        : \"me\",\n",
        "  \"me\"         : \"you\"\n",
        "}"
      ]
    },
    {
      "cell_type": "code",
      "metadata": {
        "id": "8t-APuDIpowG",
        "colab": {
          "base_uri": "https://localhost:8080/"
        },
        "outputId": "28191bf4-1872-4453-9126-264ba8b756bb"
      },
      "source": [
        "from nltk.chat.util import Chat, reflections\n",
        "pairs = [\n",
        "    [\n",
        "        r\"my name is (.*)\",\n",
        "        [\"Hello %1, How are you today ?\",]\n",
        "    ],\n",
        "     [\n",
        "        r\"what is your name ?\",\n",
        "        [\"My name is Chatty and I'm a chatbot ?\",]\n",
        "    ],\n",
        "    [\n",
        "        r\"how are you ?\",\n",
        "        [\"I'm doing good\\nHow about You ?\",]\n",
        "    ],\n",
        "    [\n",
        "        r\"sorry (.*)\",\n",
        "        [\"Its alright\",\"Its OK, never mind\",]\n",
        "    ],\n",
        "    [\n",
        "        r\"i'm (.*) doing good\",\n",
        "        [\"Nice to hear that\",\"Alright :)\",]\n",
        "    ],\n",
        "    [\n",
        "        r\"hi|hey|hello\",\n",
        "        [\"Hello\", \"Hey there\",]\n",
        "    ],\n",
        "    [\n",
        "        r\"(.*) age?\",\n",
        "        [\"I'm a computer program dude\\nSeriously you are asking me this?\",]\n",
        "        \n",
        "    ],\n",
        "    [\n",
        "        r\"what (.*) want ?\",\n",
        "        [\"Make me an offer I can't refuse\",]\n",
        "        \n",
        "    ],\n",
        "    [\n",
        "        r\"(.*) created ?\",\n",
        "        [\"Nagesh created me using Python's NLTK library \",\"top secret ;)\",]\n",
        "    ],\n",
        "    [\n",
        "        r\"(.*) (location|city) ?\",\n",
        "        ['Chennai, Tamil Nadu',]\n",
        "    ],\n",
        "    [\n",
        "        r\"how is weather in (.*)?\",\n",
        "        [\"Weather in %1 is awesome like always\",\"Too hot man here in %1\",\"Too cold man here in %1\",\"Never even heard about %1\"]\n",
        "    ],\n",
        "    [\n",
        "        r\"i work in (.*)?\",\n",
        "        [\"%1 is an Amazing company, I have heard about it. But they are in huge loss these days.\",]\n",
        "    ],\n",
        "    [\n",
        "        r\"(.*)raining in (.*)\",\n",
        "        [\"No rain since last week here in %2\",\"Damn its raining too much here in %2\"]\n",
        "    ],\n",
        "    [\n",
        "        r\"how (.*) health(.*)\",\n",
        "        [\"I'm a computer program, so I'm always healthy \",]\n",
        "    ],\n",
        "    [\n",
        "        r\"(.*) (sports|game) ?\",\n",
        "        [\"I'm a very big fan of Football\",]\n",
        "    ],\n",
        "    [\n",
        "        r\"who (.*) sportsperson ?\",\n",
        "        [\"Messy\",\"Ronaldo\",\"Roony\"]\n",
        "    ],\n",
        "    [\n",
        "        r\"who (.*) (moviestar|actor)?\",\n",
        "        [\"Brad Pitt\"]\n",
        "    ],\n",
        "    [\n",
        "        r\"quit\",\n",
        "        [\"BBye take care. See you soon :) \",\"It was nice talking to you. See you soon :)\"]\n",
        "    ],\n",
        "]\n",
        "def chatty():\n",
        "    print(\"Hi, I'm Chatty and I chat alot ;)\\nPlease type lowercase English language to start a conversation. Type quit to leave \") #default message at the start\n",
        "    chat = Chat(pairs, reflections)\n",
        "    chat.converse()\n",
        "if __name__ == \"__main__\":\n",
        "    chatty()"
      ],
      "execution_count": null,
      "outputs": [
        {
          "output_type": "stream",
          "text": [
            "Hi, I'm Chatty and I chat alot ;)\n",
            "Please type lowercase English language to start a conversation. Type quit to leave \n",
            ">hi\n",
            "Hey there\n",
            ">quit\n",
            "It was nice talking to you. See you soon :)\n"
          ],
          "name": "stdout"
        }
      ]
    },
    {
      "cell_type": "markdown",
      "metadata": {
        "id": "d-veYiaqAHwv"
      },
      "source": [
        "CHAT BOT IMPLEMENTATION USING CHATTERBOT"
      ]
    },
    {
      "cell_type": "code",
      "metadata": {
        "colab": {
          "base_uri": "https://localhost:8080/"
        },
        "id": "mPybzxdfob14",
        "outputId": "102d28de-5486-4c1a-bd36-dba3308f8423"
      },
      "source": [
        "!pip install chatterbot\r\n"
      ],
      "execution_count": null,
      "outputs": [
        {
          "output_type": "stream",
          "text": [
            "Collecting chatterbot\n",
            "\u001b[?25l  Downloading https://files.pythonhosted.org/packages/7c/21/85c2b114bd9dfabdd46ba58fc4519acdaed45d8c70898d40079e37a45e67/ChatterBot-1.0.8-py2.py3-none-any.whl (63kB)\n",
            "\r\u001b[K     |█████▏                          | 10kB 13.5MB/s eta 0:00:01\r\u001b[K     |██████████▎                     | 20kB 19.9MB/s eta 0:00:01\r\u001b[K     |███████████████▌                | 30kB 23.8MB/s eta 0:00:01\r\u001b[K     |████████████████████▋           | 40kB 18.6MB/s eta 0:00:01\r\u001b[K     |█████████████████████████▊      | 51kB 14.8MB/s eta 0:00:01\r\u001b[K     |███████████████████████████████ | 61kB 15.8MB/s eta 0:00:01\r\u001b[K     |████████████████████████████████| 71kB 5.0MB/s \n",
            "\u001b[?25hCollecting mathparse<0.2,>=0.1\n",
            "  Downloading https://files.pythonhosted.org/packages/c3/e5/4910fb85950cb960fcf3f5aabe1c8e55f5c9201788a1c1302b570a7e1f84/mathparse-0.1.2-py3-none-any.whl\n",
            "Requirement already satisfied: python-dateutil<2.9,>=2.8 in /usr/local/lib/python3.7/dist-packages (from chatterbot) (2.8.1)\n",
            "Requirement already satisfied: pytz in /usr/local/lib/python3.7/dist-packages (from chatterbot) (2018.9)\n",
            "Requirement already satisfied: sqlalchemy<1.4,>=1.3 in /usr/local/lib/python3.7/dist-packages (from chatterbot) (1.3.23)\n",
            "Requirement already satisfied: six>=1.5 in /usr/local/lib/python3.7/dist-packages (from python-dateutil<2.9,>=2.8->chatterbot) (1.15.0)\n",
            "Installing collected packages: mathparse, chatterbot\n",
            "Successfully installed chatterbot-1.0.8 mathparse-0.1.2\n"
          ],
          "name": "stdout"
        }
      ]
    },
    {
      "cell_type": "code",
      "metadata": {
        "colab": {
          "base_uri": "https://localhost:8080/"
        },
        "id": "zQ7tDl_BoKq1",
        "outputId": "58d289de-bc72-4c4a-e65a-1b76b0f86016"
      },
      "source": [
        "#Importing basic libraries required\r\n",
        "from chatterbot import ChatBot\r\n",
        "from chatterbot.trainers import ListTrainer\r\n",
        "\r\n",
        "#Creating an instance of ChatBot\r\n",
        "chatbot = ChatBot(\"Bot\")\r\n",
        "\r\n",
        "#Converstion for ChatBot\r\n",
        "conversation = [\r\n",
        "    \"Good morning\",\r\n",
        "    \"Hi there!\",\r\n",
        "    \"How are you doing?\",\r\n",
        "    \"I'm doing great.\",\r\n",
        "    \"That is good to hear\",\r\n",
        "    \"Thank you.\",\r\n",
        "    \"You're welcome.\"\r\n",
        "    \"What is your name\"\r\n",
        "    \"My name is FRIDAY\"\r\n",
        "]\r\n",
        "\r\n",
        "#Training ChatBot\r\n",
        "trainer = ListTrainer(chatbot)\r\n",
        "trainer.train(conversation)\r\n",
        "\r\n",
        "while True:\r\n",
        "    try:\r\n",
        "        bot_input = chatbot.get_response(input())\r\n",
        "        print(bot_input)\r\n",
        "\r\n",
        "    except(KeyboardInterrupt, EOFError, SystemExit):\r\n",
        "        break"
      ],
      "execution_count": null,
      "outputs": [
        {
          "output_type": "stream",
          "text": [
            "List Trainer: [####################] 100%\n",
            "hi\n",
            "You're welcome.What is your nameMy name is FRIDAY\n",
            "ac\n",
            "That is good to hear\n"
          ],
          "name": "stdout"
        }
      ]
    }
  ]
}