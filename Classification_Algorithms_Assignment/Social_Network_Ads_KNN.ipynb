{
  "nbformat": 4,
  "nbformat_minor": 0,
  "metadata": {
    "kernelspec": {
      "display_name": "Python 3 (Anaconda 5)",
      "env": {
        "LD_LIBRARY_PATH": "/ext/anaconda5/lib",
        "PYTHONHOME": "/ext/anaconda5/lib/python3.5",
        "PYTHONPATH": "/ext/anaconda5/lib/python3.5:/ext/anaconda5/lib/python3.5/site-packages"
      },
      "language": "python",
      "metadata": {
        "cocalc": {
          "description": "Python/R distribution for data science",
          "priority": 5,
          "url": "https://www.anaconda.com/distribution/"
        }
      },
      "name": "anaconda5"
    },
    "language_info": {
      "codemirror_mode": {
        "name": "ipython",
        "version": 3
      },
      "file_extension": ".py",
      "mimetype": "text/x-python",
      "name": "python",
      "nbconvert_exporter": "python",
      "pygments_lexer": "ipython3",
      "version": "3.6.7"
    },
    "colab": {
      "name": "Social Network Ads KNN.ipynb",
      "provenance": [],
      "collapsed_sections": []
    }
  },
  "cells": [
    {
      "cell_type": "code",
      "metadata": {
        "id": "ZQ96j0uMuZxK"
      },
      "source": [
        "import numpy as nm  \n",
        "import matplotlib.pyplot as mtp  \n",
        "import pandas as pd  \n",
        "  \n",
        "# Importing the dataset \n",
        "dataset = pd.read_csv('/content/Social_Network_Ads.csv')  \n",
        "dataset=dataset.drop(columns=['User ID'])\n",
        "dataset['Gender'] = dataset['Gender'].replace({'Female': 0, 'Male': 1})\n",
        "\n",
        "\n",
        "# store feature matrix in \"X\"\n",
        "X = dataset.iloc[ : , :-1]\n",
        "\n",
        "# store response vector in \"y\"\n",
        "y = dataset.iloc[ : ,-1]"
      ],
      "execution_count": null,
      "outputs": []
    },
    {
      "cell_type": "code",
      "metadata": {
        "colab": {
          "base_uri": "https://localhost:8080/"
        },
        "id": "SkqLSlzlsQK6",
        "outputId": "40e10dc1-cb2b-4f45-8665-3fa3f1c2c741"
      },
      "source": [
        "from google.colab import drive\n",
        "drive.mount('/content/drive')"
      ],
      "execution_count": null,
      "outputs": [
        {
          "output_type": "stream",
          "text": [
            "Mounted at /content/drive\n"
          ],
          "name": "stdout"
        }
      ]
    },
    {
      "cell_type": "markdown",
      "metadata": {
        "collapsed": false,
        "id": "ul2qReXiuZxR"
      },
      "source": [
        "K-nearest neighbors (KNN) classification\n",
        "\n",
        "Pick a value for K.\n",
        "\n",
        "Search for the K observations in the training data that are \"nearest\" to the measurements of the unknown iris.\n",
        "\n",
        "Use the most popular response value from the K nearest neighbors as the predicted response value for the unknown iris."
      ]
    },
    {
      "cell_type": "code",
      "metadata": {
        "id": "ppVR0q7MuZxS"
      },
      "source": [
        "#Step 1: Import the class you plan to use\n",
        "from sklearn.neighbors import KNeighborsClassifier"
      ],
      "execution_count": null,
      "outputs": []
    },
    {
      "cell_type": "markdown",
      "metadata": {
        "collapsed": false,
        "id": "fxohQ6AeuZxW"
      },
      "source": [
        "OR"
      ]
    },
    {
      "cell_type": "markdown",
      "metadata": {
        "collapsed": false,
        "id": "401EgTj6uZxX"
      },
      "source": [
        "step 2: \"Instantiate\" the \"estimator\"\n",
        "\n",
        "\"Estimator\" is scikit-learn's term for model\n",
        "\n",
        "\"Instantiate\" means \"make an instance of\""
      ]
    },
    {
      "cell_type": "code",
      "metadata": {
        "id": "dIkwb6dauZxY"
      },
      "source": [
        "knn = KNeighborsClassifier(n_neighbors=1)"
      ],
      "execution_count": null,
      "outputs": []
    },
    {
      "cell_type": "markdown",
      "metadata": {
        "collapsed": false,
        "id": "bBpz93bPuZxd"
      },
      "source": [
        "Step 3: Fit the model with data (aka \"model training\")\n",
        "\n",
        "Model is learning the relationship between X and y\n",
        "Occurs in-place"
      ]
    },
    {
      "cell_type": "code",
      "metadata": {
        "id": "WjWUGJh3uZxe",
        "colab": {
          "base_uri": "https://localhost:8080/"
        },
        "outputId": "73d98571-972e-4a16-efdc-1e8d399c0f88"
      },
      "source": [
        "knn.fit(X, y)"
      ],
      "execution_count": null,
      "outputs": [
        {
          "output_type": "execute_result",
          "data": {
            "text/plain": [
              "KNeighborsClassifier(algorithm='auto', leaf_size=30, metric='minkowski',\n",
              "                     metric_params=None, n_jobs=None, n_neighbors=1, p=2,\n",
              "                     weights='uniform')"
            ]
          },
          "metadata": {
            "tags": []
          },
          "execution_count": 24
        }
      ]
    },
    {
      "cell_type": "markdown",
      "metadata": {
        "collapsed": false,
        "id": "-1RkegPcuZxi"
      },
      "source": [
        "Step 4: Predict the response for a new observation\n",
        "\n",
        "New observations are called \"out-of-sample\" data\n",
        "Uses the information it learned during the model training process"
      ]
    },
    {
      "cell_type": "code",
      "metadata": {
        "id": "5z2-ZQkbuZxj",
        "colab": {
          "base_uri": "https://localhost:8080/"
        },
        "outputId": "0efdef6d-2031-4308-8768-557136565314"
      },
      "source": [
        "knn.predict([[0, 32, 150000]])"
      ],
      "execution_count": null,
      "outputs": [
        {
          "output_type": "execute_result",
          "data": {
            "text/plain": [
              "array([1])"
            ]
          },
          "metadata": {
            "tags": []
          },
          "execution_count": 25
        }
      ]
    },
    {
      "cell_type": "markdown",
      "metadata": {
        "collapsed": false,
        "id": "su55AhyVuZxm"
      },
      "source": [
        "Returns a NumPy array\n",
        "\n",
        "Can predict for multiple observations at once"
      ]
    },
    {
      "cell_type": "code",
      "metadata": {
        "id": "q504jZS-uZxt",
        "colab": {
          "base_uri": "https://localhost:8080/"
        },
        "outputId": "534c0653-f794-4fab-d88a-0731782dc654"
      },
      "source": [
        "knn = KNeighborsClassifier(n_neighbors=5)\n",
        "\n",
        "# fit the model with data\n",
        "knn.fit(X, y)\n",
        "\n",
        "# predict the response for new observations\n",
        "knn.predict([[0, 48, 29000]])"
      ],
      "execution_count": null,
      "outputs": [
        {
          "output_type": "execute_result",
          "data": {
            "text/plain": [
              "array([1])"
            ]
          },
          "metadata": {
            "tags": []
          },
          "execution_count": 27
        }
      ]
    },
    {
      "cell_type": "markdown",
      "metadata": {
        "collapsed": false,
        "id": "TD0isIqauZxx"
      },
      "source": [
        "Comparing machine learning models in scikit-learn¶"
      ]
    },
    {
      "cell_type": "code",
      "metadata": {
        "id": "FHFxFhEfuZxy",
        "colab": {
          "base_uri": "https://localhost:8080/"
        },
        "outputId": "cb05ff7d-d702-4f04-9574-293681bbd71e"
      },
      "source": [
        "from sklearn import metrics\n",
        "from sklearn.neighbors import KNeighborsClassifier\n",
        "knn = KNeighborsClassifier(n_neighbors=2)\n",
        "knn.fit(X, y)\n",
        "y_pred = knn.predict(X)\n",
        "print(metrics.accuracy_score(y, y_pred))"
      ],
      "execution_count": null,
      "outputs": [
        {
          "output_type": "stream",
          "text": [
            "0.9025\n"
          ],
          "name": "stdout"
        }
      ]
    },
    {
      "cell_type": "code",
      "metadata": {
        "id": "1Lg2SFkVuZx5",
        "colab": {
          "base_uri": "https://localhost:8080/"
        },
        "outputId": "106b70cb-af3b-418f-a75b-e5f6570133b4"
      },
      "source": [
        "from sklearn.neighbors import KNeighborsClassifier\n",
        "knn = KNeighborsClassifier(n_neighbors=5)\n",
        "knn.fit(X, y)\n",
        "y_pred = knn.predict(X)\n",
        "print(metrics.accuracy_score(y, y_pred))"
      ],
      "execution_count": null,
      "outputs": [
        {
          "output_type": "stream",
          "text": [
            "0.8725\n"
          ],
          "name": "stdout"
        }
      ]
    },
    {
      "cell_type": "code",
      "metadata": {
        "id": "BMHk7IrjuZx-"
      },
      "source": [
        ""
      ],
      "execution_count": null,
      "outputs": []
    },
    {
      "cell_type": "markdown",
      "metadata": {
        "collapsed": false,
        "id": "9MC6z3nAuZyE"
      },
      "source": [
        "Evaluation procedure #2: Train/test split\n",
        "\n",
        "Split the dataset into two pieces: a training set and a testing set.\n",
        "    \n",
        "Train the model on the training set.\n",
        "\n",
        "Test the model on the testing set, and evaluate how well we did."
      ]
    },
    {
      "cell_type": "code",
      "metadata": {
        "id": "hcXuw4MkuZyF"
      },
      "source": [
        "from sklearn.model_selection import train_test_split\n",
        "X_train, X_test,y_train, y_test = train_test_split(X, y, test_size=0.4, random_state=4)"
      ],
      "execution_count": null,
      "outputs": []
    },
    {
      "cell_type": "code",
      "metadata": {
        "id": "Fl4Re3sjuZyI",
        "colab": {
          "base_uri": "https://localhost:8080/"
        },
        "outputId": "20f1a6d4-f54c-4005-a068-97d477b65dd1"
      },
      "source": [
        "from sklearn.neighbors import KNeighborsClassifier\n",
        "from sklearn import metrics\n",
        "knn = KNeighborsClassifier(n_neighbors=5)\n",
        "knn.fit(X_train,y_train)\n",
        "y_pred = knn.predict(X_test)\n",
        "print(metrics.accuracy_score(y_test, y_pred))"
      ],
      "execution_count": null,
      "outputs": [
        {
          "output_type": "stream",
          "text": [
            "0.8375\n"
          ],
          "name": "stdout"
        }
      ]
    },
    {
      "cell_type": "code",
      "metadata": {
        "id": "OHU8Gu3QuZyM"
      },
      "source": [
        "from sklearn.model_selection import train_test_split\n",
        "X_train, X_test, y_train, y_test = train_test_split(X, y, test_size=0.5, random_state=4)"
      ],
      "execution_count": null,
      "outputs": []
    },
    {
      "cell_type": "code",
      "metadata": {
        "id": "X1usGQxeuZyP",
        "colab": {
          "base_uri": "https://localhost:8080/"
        },
        "outputId": "2761add4-9eb3-4822-da8a-1d865893d0cc"
      },
      "source": [
        "from sklearn.neighbors import KNeighborsClassifier\n",
        "from sklearn import metrics\n",
        "knn = KNeighborsClassifier(n_neighbors=5)\n",
        "knn.fit(X_train,y_train)\n",
        "y_pred = knn.predict(X_test)\n",
        "print(metrics.accuracy_score(y_test, y_pred))"
      ],
      "execution_count": null,
      "outputs": [
        {
          "output_type": "stream",
          "text": [
            "0.815\n"
          ],
          "name": "stdout"
        }
      ]
    },
    {
      "cell_type": "code",
      "metadata": {
        "id": "1HU5lbTCuZyX",
        "colab": {
          "base_uri": "https://localhost:8080/"
        },
        "outputId": "733cf2ae-d466-4831-b2c5-f6feb3c3c456"
      },
      "source": [
        "from sklearn.model_selection import cross_val_score\n",
        "k_range = list(range(1, 31))\n",
        "k_scores = []\n",
        "for k in k_range:\n",
        "    knn = KNeighborsClassifier(n_neighbors=k)\n",
        "    scores = cross_val_score(knn, X, y, cv=10, scoring='accuracy')\n",
        "    k_scores.append(scores.mean())\n",
        "print(k_scores)"
      ],
      "execution_count": null,
      "outputs": [
        {
          "output_type": "stream",
          "text": [
            "[0.7975000000000001, 0.79, 0.7900000000000001, 0.7925, 0.7849999999999999, 0.7825, 0.7925, 0.785, 0.7849999999999999, 0.76, 0.78, 0.7850000000000001, 0.7899999999999999, 0.78, 0.7725000000000001, 0.7675, 0.7625, 0.7775000000000001, 0.77, 0.7725, 0.7700000000000001, 0.7775000000000001, 0.7700000000000001, 0.7775000000000001, 0.7825000000000001, 0.7925000000000001, 0.785, 0.775, 0.77, 0.7775000000000001]\n"
          ],
          "name": "stdout"
        }
      ]
    },
    {
      "cell_type": "code",
      "metadata": {
        "id": "GftosSZOuZya",
        "colab": {
          "base_uri": "https://localhost:8080/",
          "height": 296
        },
        "outputId": "d159c04b-437f-4226-a776-5039ac569cb6"
      },
      "source": [
        "import matplotlib.pyplot as plt\n",
        "%matplotlib inline\n",
        "\n",
        "# plot the value of K for KNN (x-axis) versus the cross-validated accuracy (y-axis)\n",
        "plt.plot(k_range, k_scores)\n",
        "plt.xlabel('Value of K for KNN')\n",
        "plt.ylabel('Cross-Validated Accuracy')"
      ],
      "execution_count": null,
      "outputs": [
        {
          "output_type": "execute_result",
          "data": {
            "text/plain": [
              "Text(0, 0.5, 'Cross-Validated Accuracy')"
            ]
          },
          "metadata": {
            "tags": []
          },
          "execution_count": 36
        },
        {
          "output_type": "display_data",
          "data": {
            "image/png": "[encoded data removed]",
            "text/plain": [
              "<Figure size 432x288 with 1 Axes>"
            ]
          },
          "metadata": {
            "tags": [],
            "needs_background": "light"
          }
        }
      ]
    }
  ]
}