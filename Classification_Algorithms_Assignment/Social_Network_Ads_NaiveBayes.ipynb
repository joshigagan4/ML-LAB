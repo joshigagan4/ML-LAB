{
  "nbformat": 4,
  "nbformat_minor": 0,
  "metadata": {
    "colab": {
      "name": "Social Network Ads NaiveBayes.ipynb",
      "provenance": [],
      "collapsed_sections": []
    },
    "kernelspec": {
      "name": "python3",
      "display_name": "Python 3"
    }
  },
  "cells": [
    {
      "cell_type": "code",
      "metadata": {
        "id": "tjm_1WNKr6tK"
      },
      "source": [
        "import numpy as nm  \n",
        "import matplotlib.pyplot as mtp  \n",
        "import pandas as pd  \n",
        "  \n",
        "# Importing the dataset  \n",
        "dataset = pd.read_csv('/Social_Network_Ads.csv') \n",
        "dataset=dataset.drop(columns=['User ID'])\n",
        "dataset['Gender'] = dataset['Gender'].replace({'Female': 0, 'Male': 1})\n",
        "x = dataset.iloc[:,[2,3]].values  \n",
        "y = dataset.iloc[:, -1].values  \n",
        "  \n",
        "# Splitting the dataset into the Training set and Test set  \n",
        "from sklearn.model_selection import train_test_split  \n",
        "x_train, x_test, y_train, y_test = train_test_split(x, y, test_size = 0.40, random_state = 0)  \n",
        "  \n",
        "# Feature Scaling  \n",
        "from sklearn.preprocessing import StandardScaler  \n",
        "sc = StandardScaler()  \n",
        "x_train = sc.fit_transform(x_train)  \n",
        "x_test = sc.transform(x_test)  "
      ],
      "execution_count": null,
      "outputs": []
    },
    {
      "cell_type": "code",
      "metadata": {
        "id": "uWKpidEat-9j",
        "colab": {
          "base_uri": "https://localhost:8080/"
        },
        "outputId": "636dd518-8685-4d58-dbfe-f03cc1a4372b"
      },
      "source": [
        "from google.colab import drive\n",
        "drive.mount('/content/drive')"
      ],
      "execution_count": null,
      "outputs": [
        {
          "output_type": "stream",
          "text": [
            "Mounted at /content/drive\n"
          ],
          "name": "stdout"
        }
      ]
    },
    {
      "cell_type": "code",
      "metadata": {
        "colab": {
          "base_uri": "https://localhost:8080/"
        },
        "id": "Qb2_NEnRsjX5",
        "outputId": "c48d1818-c3d6-4048-914d-5b27afcb70cc"
      },
      "source": [
        "# Fitting Naive Bayes to the Training set  \n",
        "from sklearn.naive_bayes import GaussianNB  \n",
        "classifier = GaussianNB()  \n",
        "classifier.fit(x_train, y_train)  "
      ],
      "execution_count": null,
      "outputs": [
        {
          "output_type": "execute_result",
          "data": {
            "text/plain": [
              "GaussianNB(priors=None, var_smoothing=1e-09)"
            ]
          },
          "metadata": {
            "tags": []
          },
          "execution_count": 14
        }
      ]
    },
    {
      "cell_type": "code",
      "metadata": {
        "colab": {
          "base_uri": "https://localhost:8080/"
        },
        "id": "tY1r4jhzsqKA",
        "outputId": "08e363cb-9f64-4fb4-f21b-f782c183ac71"
      },
      "source": [
        "y_pred = classifier.predict(x_test)  \n",
        "y_pred"
      ],
      "execution_count": null,
      "outputs": [
        {
          "output_type": "execute_result",
          "data": {
            "text/plain": [
              "array([0, 0, 0, 0, 0, 0, 0, 1, 0, 0, 0, 0, 0, 0, 0, 0, 0, 0, 1, 0, 0, 1,\n",
              "       0, 1, 0, 1, 0, 0, 0, 0, 0, 1, 1, 0, 0, 0, 0, 0, 0, 1, 0, 0, 0, 0,\n",
              "       1, 0, 0, 1, 0, 1, 1, 0, 0, 0, 1, 1, 0, 0, 1, 0, 0, 1, 0, 1, 0, 1,\n",
              "       0, 0, 0, 0, 1, 0, 0, 1, 0, 0, 0, 0, 1, 1, 1, 0, 0, 0, 1, 1, 0, 1,\n",
              "       1, 0, 0, 1, 0, 0, 0, 1, 0, 1, 1, 1, 0, 1, 0, 1, 1, 1, 0, 0, 0, 0,\n",
              "       0, 0, 1, 1, 1, 0, 1, 0, 0, 1, 0, 1, 0, 1, 0, 0, 1, 1, 1, 1, 0, 1,\n",
              "       0, 1, 0, 0, 1, 0, 0, 1, 0, 0, 0, 0, 0, 1, 1, 1, 1, 0, 0, 0, 1, 0,\n",
              "       1, 0, 1, 0, 0, 1])"
            ]
          },
          "metadata": {
            "tags": []
          },
          "execution_count": 15
        }
      ]
    },
    {
      "cell_type": "code",
      "metadata": {
        "colab": {
          "base_uri": "https://localhost:8080/"
        },
        "id": "9JoCHfS7s7wf",
        "outputId": "ab201ed7-8847-43a2-c047-024b7ee639be"
      },
      "source": [
        "# Making the Confusion Matrix  \n",
        "from sklearn.metrics import confusion_matrix,accuracy_score \n",
        "cm = confusion_matrix(y_test, y_pred) \n",
        "cm "
      ],
      "execution_count": null,
      "outputs": [
        {
          "output_type": "execute_result",
          "data": {
            "text/plain": [
              "array([[101,   0],\n",
              "       [  0,  59]])"
            ]
          },
          "metadata": {
            "tags": []
          },
          "execution_count": 16
        }
      ]
    },
    {
      "cell_type": "code",
      "metadata": {
        "colab": {
          "base_uri": "https://localhost:8080/"
        },
        "id": "SxuvCPLToJIR",
        "outputId": "d873a14f-2240-4a17-cc49-92bdbbc05c17"
      },
      "source": [
        "print(accuracy_score(y_test, y_pred))"
      ],
      "execution_count": null,
      "outputs": [
        {
          "output_type": "stream",
          "text": [
            "1.0\n"
          ],
          "name": "stdout"
        }
      ]
    }
  ]
}